{
  "nbformat": 4,
  "nbformat_minor": 0,
  "metadata": {
    "colab": {
      "provenance": [],
      "mount_file_id": "1TLxJZmQJB9JrX99HhmTtEOV8Be8hjrdi",
      "authorship_tag": "ABX9TyPCI2BJeKLWtgc/1tFO1FEc",
      "include_colab_link": true
    },
    "kernelspec": {
      "name": "python3",
      "display_name": "Python 3"
    },
    "language_info": {
      "name": "python"
    }
  },
  "cells": [
    {
      "cell_type": "markdown",
      "metadata": {
        "id": "view-in-github",
        "colab_type": "text"
      },
      "source": [
        "<a href=\"https://colab.research.google.com/github/bimal-bp/Rulebased-chatbot-bimal_ts.ipynb/blob/ML_MODELS/Rulebased_chatbot_bimal_ts.ipynb\" target=\"_parent\"><img src=\"https://colab.research.google.com/assets/colab-badge.svg\" alt=\"Open In Colab\"/></a>"
      ]
    },
    {
      "cell_type": "markdown",
      "source": [
        "**Chatbot**:\n",
        "\n",
        "A chatbot is a computer program that simulates conversation with humans. Chatbots are typically used in customer service, education, and entertainment. They can be used to answer questions, provide support, deliver educational content, or simply chat with people.\n",
        "\n",
        "Chatbots are powered by artificial intelligence (AI) and natural language processing (NLP). This allows them to understand and respond to human language in a natural way. Chatbots can also learn over time, which means that they can improve their ability to communicate with humans as they interact with more people.\n",
        "\n",
        "**Types:**\n",
        "\n",
        "- Rule-based chatbots: These chatbots follow a set of rules to generate responses to user input. Rule-based chatbots are typically simpler and less sophisticated than other types of chatbots, but they can be effective for automating basic tasks, such as answering frequently asked questions.\n",
        "\n",
        "- AI-powered chatbots: These chatbots use artificial intelligence (AI) to understand and respond to user input in a more natural way. AI-powered chatbots can learn from their interactions with users and improve their ability to communicate over time.\n",
        "\n",
        "- Hybrid chatbots: These chatbots combine elements of rule-based chatbots and AI-powered chatbots. Hybrid chatbots typically use rule-based logic to handle basic tasks and AI to handle more complex tasks."
      ],
      "metadata": {
        "id": "YOglC4gTVhdH"
      }
    },
    {
      "cell_type": "markdown",
      "source": [
        "\n",
        "Rule-based chatbots and self-learning chatbots are two different types of chatbots with different strengths and weaknesses.\n",
        "\n",
        "- Rule-based chatbots follow a set of pre-defined rules to generate responses to user input. These rules are typically written by human experts and can be very complex. Rule-based chatbots are very good at handling routine tasks, such as answering frequently asked questions or providing step-by-step instructions. However, they can struggle to handle more complex tasks or to understand and respond to natural language in a way that feels human-like.\n",
        "\n",
        "- Self-learning chatbots, on the other hand, are trained on large datasets of text and code. This allows them to learn to understand and respond to natural language in a more human-like way. Self-learning chatbots can also learn from their interactions with users and improve their ability to communicate over time. This makes them well-suited for handling more complex tasks, such as providing customer service, answering questions, and delivering educational content."
      ],
      "metadata": {
        "id": "TBpZhoHiV9Tk"
      }
    },
    {
      "cell_type": "code",
      "source": [
        "import re\n",
        "import random\n",
        "\n",
        "class Rulebot:\n",
        "  ##negative respone\n",
        "  negative_responses=('no','nope','nah','not a chance','sorry')\n",
        "  ## exit comand\n",
        "  exit_commands=('quit','pause','exit','goodbye','bye','later')\n",
        "  ##random question\n",
        "  random_questions=(\n",
        "      'why are you here',\n",
        "      'are there many humans like  you',\n",
        "      'does earth have a leader',\n",
        "      'what planets have you visited',\n",
        "      'what techonolhy do you have on this planet'\n",
        "  )\n",
        "\n",
        "\n",
        "  def __init__(self):\n",
        "    self.alienbabble={'describe_planet_intent':r'.*\\s* your planet.*',\n",
        "                      'answer_why_intent':r'why\\sare',\n",
        "                      'about_bimal':r'.*\\s*bimal'\n",
        "                      }\n",
        "  def greet(self):\n",
        "    self.name=input(\"what is your name?\\n\")\n",
        "    will_help=input(\n",
        "        f\"Hi {self.name},i am rulebot help me to learn \\n\")\n",
        "    if will_help in self.negative_responses:\n",
        "      print(\"ok,have a nice earth day\")\n",
        "    self.chat()\n",
        "  def make_exit(self,reply):\n",
        "    for command in self.exit_commands:\n",
        "      if reply==command:\n",
        "        print(\"okay have a nice day\")\n",
        "        return True\n",
        "  def chat(self):\n",
        "    reply=input(random.choice(self.random_questions)).lower()\n",
        "    while not self.make_exit(reply):\n",
        "      reply=input(self.match_reply(reply))\n",
        "  def match_reply(self,reply):\n",
        "    for key,value in self.alienbabble.items():\n",
        "      intent=key\n",
        "      regex_pattern=value\n",
        "      if found_match and intent== 'describe_planet_intent':\n",
        "        return self.describe_planet_intent()\n",
        "      elif found_match and intent=='answer_why_intent':\n",
        "        return self.answer_why_intent()\n",
        "      elif found_match and intent== 'about_bimal':\n",
        "        return self.about_bimal()\n",
        "    if not found_match:\n",
        "      return self.no_match_intent()\n",
        "  def describe_planet_intent(self):\n",
        "    responses=(\"my planet is jupiter of diverse organism and sepices .\\n\",\n",
        "               \"i am from jupiter,capital of jupiter ranu .\\n\")\n",
        "    return random.choice(responses)\n",
        "  def about_bimal(self):\n",
        "    responses=(\"bimal is a very good person \")\n",
        "    return random.choice(responses)\n",
        "  def answer_why_intent(self):\n",
        "    responses=(\"i am come in peace \\n\",\"i am here to collect data\")\n",
        "    return random.choice(responses)\n",
        "  def no_match_intent(self):\n",
        "    responses=(\n",
        "        \"please tell me more.\\n\",\"tell me more\\n\",\n",
        "        \"How do you think i feel when you say that \\n\"\n",
        "    )\n",
        "    return random.choice(responses)\n",
        "\n",
        "AlienBot=Rulebot()\n",
        "AlienBot.greet()\n",
        ""
      ],
      "metadata": {
        "id": "Yvo0f3JzVgQ-"
      },
      "execution_count": null,
      "outputs": []
    },
    {
      "cell_type": "code",
      "source": [
        "import re\n",
        "import random\n",
        "\n",
        "class Rulebot:\n",
        "    # Negative response\n",
        "    negative_responses = ('no', 'nope', 'nah', 'not a chance', 'sorry')\n",
        "    # Exit command\n",
        "    exit_commands = ('quit', 'pause', 'exit', 'goodbye', 'bye', 'later')\n",
        "    # Random questions\n",
        "    random_questions = (\n",
        "        'why are you here',\n",
        "        'are there many humans like you',\n",
        "        'does Earth have a leader',\n",
        "        'what planets have you visited',\n",
        "        'what technology do you have on this planet'\n",
        "    )\n",
        "\n",
        "    def __init__(self):\n",
        "        self.alienbabble = {\n",
        "            'describe_planet_intent': r'.*\\s*your planet.*',\n",
        "            'answer_why_intent': r'why\\sare',\n",
        "            'about_bimal': r'.*\\s*bimal',\n",
        "            'about_session': r'.*\\s*session'\n",
        "        }\n",
        "\n",
        "    def greet(self):\n",
        "        self.name = input(\"What is your name?\\n\")\n",
        "        will_help = input(f\"Hi {self.name}, I am Rulebot. Can you help me learn?\\n\")\n",
        "        if will_help in self.negative_responses:\n",
        "            print(\"Okay, have a nice Earth day.\")\n",
        "        else:\n",
        "            self.chat()\n",
        "\n",
        "    def make_exit(self, reply):\n",
        "        for command in self.exit_commands:\n",
        "            if reply == command:\n",
        "                print(\"Okay, have a nice day.\")\n",
        "                return True\n",
        "        return False\n",
        "\n",
        "    def chat(self):\n",
        "        reply = input(random.choice(self.random_questions)).lower()\n",
        "        while not self.make_exit(reply):\n",
        "            reply = input(self.match_reply(reply))\n",
        "\n",
        "    def match_reply(self, reply):\n",
        "        for key, value in self.alienbabble.items():\n",
        "            intent = key\n",
        "            regex_pattern = value\n",
        "            found_match = re.match(regex_pattern, reply)\n",
        "            if found_match and intent == 'describe_planet_intent':\n",
        "                return self.describe_planet_intent()\n",
        "            elif found_match and intent == 'answer_why_intent':\n",
        "                return self.answer_why_intent()\n",
        "            elif found_match and intent == 'about_bimal':\n",
        "                return self.about_bimal()\n",
        "            elif found_match and intent == 'about_session':\n",
        "                return self.about_session()\n",
        "            elif found_match and intent =='about_session':\n",
        "                return self.about_session()\n",
        "        if not found_match:\n",
        "            return self.no_match_intent()\n",
        "\n",
        "    def describe_planet_intent(self):\n",
        "        responses = [\"My planet is Jupiter with diverse organisms and species.\",\n",
        "                     \"I am from Jupiter, the capital of Jupiter Ranu.\"]\n",
        "        return random.choice(responses)\n",
        "\n",
        "    def about_bimal(self):\n",
        "        responses = [\"Bimal is a very good person.\\n\", \"Loves mumma.\\n\"]\n",
        "        return random.choice(responses)\n",
        "\n",
        "    def about_session(self):\n",
        "        responses = ['This session is about a rule-based chatbot.\\n', 'Nice class.\\n']\n",
        "        return random.choice(responses)\n",
        "\n",
        "    def answer_why_intent(self):\n",
        "        responses = [\"I am here in peace.\\n\", \"I am here to collect data.\\n\"]\n",
        "        return random.choice(responses)\n",
        "\n",
        "    def no_match_intent(self):\n",
        "        responses = [\"Please tell me more.\\n\", \"Tell me more.\\n\", \"How do you think I feel when you say that?\\n\"]\n",
        "        return random.choice(responses)\n",
        "\n",
        "AlienBot = Rulebot()\n",
        "AlienBot.greet()\n"
      ],
      "metadata": {
        "colab": {
          "base_uri": "https://localhost:8080/"
        },
        "id": "i4dqwzU7llHZ",
        "outputId": "a30a87c4-4fee-40dd-9d5b-1f9ff596272d"
      },
      "execution_count": 16,
      "outputs": [
        {
          "output_type": "stream",
          "name": "stdout",
          "text": [
            "What is your name?\n",
            "bimal\n",
            "Hi bimal, I am Rulebot. Can you help me learn?\n",
            "what else\n",
            "does Earth have a leaderyes\n",
            "Tell me more.\n",
            "what else\n",
            "Please tell me more.\n",
            "about bimal\n",
            "Loves mumma.\n",
            "quit\n",
            "Okay, have a nice day.\n"
          ]
        }
      ]
    },
    {
      "cell_type": "code",
      "source": [
        "import numpy as np\n",
        "import nltk\n",
        "import string\n",
        "import random\n",
        "nltk.download('punkt')\n",
        "nltk.download('wordnet')\n",
        "nltk.download('omw-1.4')"
      ],
      "metadata": {
        "colab": {
          "base_uri": "https://localhost:8080/"
        },
        "id": "hrlLdEOhqb9c",
        "outputId": "6e5dd9be-8251-4cdd-ab61-17deb603c807"
      },
      "execution_count": 14,
      "outputs": [
        {
          "output_type": "stream",
          "name": "stderr",
          "text": [
            "[nltk_data] Downloading package punkt to /root/nltk_data...\n",
            "[nltk_data]   Unzipping tokenizers/punkt.zip.\n",
            "[nltk_data] Downloading package wordnet to /root/nltk_data...\n",
            "[nltk_data] Downloading package omw-1.4 to /root/nltk_data...\n"
          ]
        },
        {
          "output_type": "execute_result",
          "data": {
            "text/plain": [
              "True"
            ]
          },
          "metadata": {},
          "execution_count": 14
        }
      ]
    },
    {
      "cell_type": "code",
      "source": [
        "from google.colab import drive\n",
        "drive.mount('/content/drive')"
      ],
      "metadata": {
        "id": "WH7p_E_YwT5J"
      },
      "execution_count": null,
      "outputs": []
    },
    {
      "cell_type": "code",
      "source": [
        "with open('/content/drive/MyDrive/cattxt.txt', 'r') as file:\n",
        "    data = file.readlines()\n",
        "\n",
        "# Print the data\n",
        "for line in data:\n",
        "    print(line)"
      ],
      "metadata": {
        "id": "vcVrsVDa_O0f"
      },
      "execution_count": null,
      "outputs": []
    },
    {
      "cell_type": "code",
      "source": [
        "# Assuming you have already read the data from a text file and stored it in the 'data' variable\n",
        "\n",
        "import nltk\n",
        "\n",
        "# Assuming you have already read the data from a text file and stored it in the 'data' variable\n",
        "\n",
        "# Convert the data to lowercase\n",
        "data = [sentence.lower() for sentence in data]\n",
        "\n",
        "# Join the list into a single string\n",
        "data_as_string = ' '.join(data)\n",
        "\n",
        "# Tokenize the data into sentences and words\n",
        "sentences = nltk.sent_tokenize(data_as_string)\n",
        "words = nltk.word_tokenize(data_as_string)\n"
      ],
      "metadata": {
        "id": "8grrIufgLiXA"
      },
      "execution_count": 18,
      "outputs": []
    },
    {
      "cell_type": "code",
      "source": [
        "lemmer=nltk.stem.WordNetLemmatizer()\n",
        "def Lemtokens(tokens):\n",
        "  return [lemmer.lemmatize(token) for token in tokens]\n",
        "remove_punc_dict=dict((ord(punct),None) for punct in string.punctuation)\n",
        "def LemNormalize(text):\n",
        "  return Lemtokens(nltk.word_tokenize(text.lower().translate(remove_punc_dict)))"
      ],
      "metadata": {
        "id": "eg2cVTbIN3mo"
      },
      "execution_count": 30,
      "outputs": []
    },
    {
      "cell_type": "code",
      "source": [
        "greet_inputs=('hello','hi','whatsupp','how are you')\n",
        "greet_responses=('hi','Hey','Hey There!','There there!')\n",
        "\n",
        "def greet(sentence):\n",
        "  for word in sentence.split():\n",
        "    if word.lower() in greet_inputs:\n",
        "      return random.choice(greet_responses)"
      ],
      "metadata": {
        "id": "81UOg5OBPJLP"
      },
      "execution_count": 23,
      "outputs": []
    },
    {
      "cell_type": "code",
      "source": [
        "from sklearn.feature_extraction.text import TfidfVectorizer\n",
        "from sklearn.metrics.pairwise import cosine_similarity"
      ],
      "metadata": {
        "id": "-YCY3OlXRZmW"
      },
      "execution_count": 26,
      "outputs": []
    },
    {
      "cell_type": "code",
      "source": [
        "def response(user_response):\n",
        "  robo1_response=''\n",
        "  TfidfVec=TfidfVectorizer(tokenizer=LemNormalize,stop_words='english')\n",
        "  tfidf=TfidfVec.fit_transform(sentences)\n",
        "  vals=cosine_similarity(tfidf[-1],tfidf)\n",
        "  idx=vals.argsort()[0][-2]\n",
        "  flat=vals.flatten()\n",
        "  flat.sort()\n",
        "  req_tfidf=flat[-2]\n",
        "  if (req_tfidf==0):\n",
        "    robo1_response=robo1_response+\"i am sorry ,unable to undersatnd you !\"\n",
        "    return robo1_response\n",
        "  else:\n",
        "    robo1_response = robo1_response+sentences[idx]\n",
        "    return robo1_response\n"
      ],
      "metadata": {
        "id": "bA6Ue_wISTz_"
      },
      "execution_count": 28,
      "outputs": []
    },
    {
      "cell_type": "code",
      "source": [
        "flag=True\n",
        "print('Hello  i am  the learning bot created by bimal_ts how can i help you')\n",
        "while(flag==True):\n",
        "  user_response=input()\n",
        "  user_response=user_response.lower()\n",
        "  if (user_response != 'bye'):\n",
        "    if(user_response == 'thank you' or user_response=='thanks'):\n",
        "      flag=False\n",
        "      print('bot:  you are welcome')\n",
        "    else:\n",
        "      if(greet(user_response) != None):\n",
        "        print('bot'+greet(user_response))\n",
        "      else:\n",
        "        sentences.append(user_response)\n",
        "        words=words+nltk.wordpunct_tokenize(user_response)\n",
        "        final_words=list(set(words))\n",
        "        print('Bot:',end='')\n",
        "        print(response(user_response))\n",
        "        sentences.remove(user_response)\n",
        "  else:\n",
        "    flag=False\n",
        "    print('bot: Goodbye')\n",
        "\n",
        ""
      ],
      "metadata": {
        "colab": {
          "base_uri": "https://localhost:8080/"
        },
        "id": "kSCysOigU8-k",
        "outputId": "12fab087-a4f9-4d54-bcf5-096917c60897"
      },
      "execution_count": 31,
      "outputs": [
        {
          "output_type": "stream",
          "name": "stdout",
          "text": [
            "Hello  i am  the learning bot created by bimal_ts how can i help you\n",
            "hii\n",
            "Bot:"
          ]
        },
        {
          "output_type": "stream",
          "name": "stderr",
          "text": [
            "/usr/local/lib/python3.10/dist-packages/sklearn/feature_extraction/text.py:409: UserWarning: Your stop_words may be inconsistent with your preprocessing. Tokenizing the stop words generated tokens ['ha', 'le', 'u', 'wa'] not in stop_words.\n",
            "  warnings.warn(\n"
          ]
        },
        {
          "output_type": "stream",
          "name": "stdout",
          "text": [
            "hii\n",
            "whatupp\n",
            "Bot:i am sorry ,unable to undersatnd you !\n",
            "can u tell me turing test\n",
            "Bot:chatbot competitions focus on the turing test or more specific goals.\n",
            "universe\n",
            "Bot:i am sorry ,unable to undersatnd you !\n",
            "can  you tell me turing test\n",
            "Bot:chatbot competitions focus on the turing test or more specific goals.\n",
            "chatbot\n",
            "Bot:\"dbpedia chatbot\".\n",
            "what is chatbot\n",
            "Bot:\"dbpedia chatbot\".\n",
            "eliza\n",
            "Bot:development\n",
            " among the most notable early chatbots are eliza (1966) and parry (1972).\n",
            "who create eliza\n",
            "Bot:[85]\n",
            " \n",
            " chatbot jobs\n",
            " \n",
            " chatbot developers create, debug, and maintain applications that automate customer services or other communication processes.\n",
            "what is the defination od chatbot\n",
            "Bot:\"dbpedia chatbot\".\n",
            "what is dbpedia chatbot\n",
            "Bot:\"dbpedia chatbot\".\n",
            "bye\n",
            "bot: Goodbye\n"
          ]
        }
      ]
    },
    {
      "cell_type": "code",
      "source": [],
      "metadata": {
        "id": "j57c73vuYi_d"
      },
      "execution_count": 31,
      "outputs": []
    }
  ]
}